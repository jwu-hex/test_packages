{
  "cells": [
    {
      "cell_type": "markdown",
      "source": "",
      "metadata": {
        "formattedRanges": [],
        "cell_id": "63b522dff90049af9cd72b2fe6d6309a",
        "deepnote_cell_type": "text-cell-p"
      },
      "block_group": "657a13b0f1d14408a71d9a9a84775ad1"
    },
    {
      "cell_type": "markdown",
      "source": "> create dummy data",
      "metadata": {
        "color": "green",
        "cell_id": "dc036cad3ccd4c7a83c455b13dc7ffcf",
        "deepnote_cell_type": "text-cell-callout"
      },
      "block_group": "7bddbda22e7c456d9bfdd910403f7fd5"
    },
    {
      "cell_type": "code",
      "source": "import pandas as pd\nimport numpy as np\n\n# Create a DataFrame with dummy data\ndata = {\n    'A': np.random.randint(1, 100, 50),\n    'B': np.random.normal(loc=50, scale=15, size=50),\n    'C': np.random.choice(['X', 'Y', 'Z'], size=50)\n}\ndf = pd.DataFrame(data)\ndf",
      "metadata": {
        "source_hash": "5f608456",
        "execution_start": 1713826250390,
        "execution_millis": 33,
        "deepnote_to_be_reexecuted": false,
        "cell_id": "35139896c0cb40689b97e82e936c4d0c",
        "deepnote_cell_type": "code"
      },
      "outputs": [
        {
          "output_type": "execute_result",
          "execution_count": 2,
          "data": {
            "application/vnd.deepnote.dataframe.v3+json": {
              "column_count": 3,
              "row_count": 50,
              "columns": [
                {
                  "name": "A",
                  "dtype": "int64",
                  "stats": {
                    "unique_count": 41,
                    "nan_count": 0,
                    "min": "1",
                    "max": "93",
                    "histogram": [
                      {
                        "bin_start": 1,
                        "bin_end": 10.2,
                        "count": 7
                      },
                      {
                        "bin_start": 10.2,
                        "bin_end": 19.4,
                        "count": 6
                      },
                      {
                        "bin_start": 19.4,
                        "bin_end": 28.599999999999998,
                        "count": 4
                      },
                      {
                        "bin_start": 28.599999999999998,
                        "bin_end": 37.8,
                        "count": 8
                      },
                      {
                        "bin_start": 37.8,
                        "bin_end": 47,
                        "count": 6
                      },
                      {
                        "bin_start": 47,
                        "bin_end": 56.199999999999996,
                        "count": 4
                      },
                      {
                        "bin_start": 56.199999999999996,
                        "bin_end": 65.39999999999999,
                        "count": 6
                      },
                      {
                        "bin_start": 65.39999999999999,
                        "bin_end": 74.6,
                        "count": 4
                      },
                      {
                        "bin_start": 74.6,
                        "bin_end": 83.8,
                        "count": 4
                      },
                      {
                        "bin_start": 83.8,
                        "bin_end": 93,
                        "count": 1
                      }
                    ]
                  }
                },
                {
                  "name": "B",
                  "dtype": "float64",
                  "stats": {
                    "unique_count": 50,
                    "nan_count": 0,
                    "min": "20.281605896123438",
                    "max": "89.85390628754504",
                    "histogram": [
                      {
                        "bin_start": 20.281605896123438,
                        "bin_end": 27.238835935265598,
                        "count": 3
                      },
                      {
                        "bin_start": 27.238835935265598,
                        "bin_end": 34.19606597440776,
                        "count": 4
                      },
                      {
                        "bin_start": 34.19606597440776,
                        "bin_end": 41.15329601354992,
                        "count": 6
                      },
                      {
                        "bin_start": 41.15329601354992,
                        "bin_end": 48.11052605269208,
                        "count": 7
                      },
                      {
                        "bin_start": 48.11052605269208,
                        "bin_end": 55.06775609183424,
                        "count": 8
                      },
                      {
                        "bin_start": 55.06775609183424,
                        "bin_end": 62.0249861309764,
                        "count": 3
                      },
                      {
                        "bin_start": 62.0249861309764,
                        "bin_end": 68.98221617011856,
                        "count": 10
                      },
                      {
                        "bin_start": 68.98221617011856,
                        "bin_end": 75.93944620926072,
                        "count": 4
                      },
                      {
                        "bin_start": 75.93944620926072,
                        "bin_end": 82.89667624840288,
                        "count": 4
                      },
                      {
                        "bin_start": 82.89667624840288,
                        "bin_end": 89.85390628754504,
                        "count": 1
                      }
                    ]
                  }
                },
                {
                  "name": "C",
                  "dtype": "object",
                  "stats": {
                    "unique_count": 3,
                    "nan_count": 0,
                    "categories": [
                      {
                        "name": "Z",
                        "count": 22
                      },
                      {
                        "name": "X",
                        "count": 16
                      },
                      {
                        "name": "Y",
                        "count": 12
                      }
                    ]
                  }
                },
                {
                  "name": "_deepnote_index_column",
                  "dtype": "int64"
                }
              ],
              "rows": [
                {
                  "A": 1,
                  "B": 50.12755873320555,
                  "C": "Z",
                  "_deepnote_index_column": 0
                },
                {
                  "A": 24,
                  "B": 77.4895899467254,
                  "C": "Y",
                  "_deepnote_index_column": 1
                },
                {
                  "A": 29,
                  "B": 89.85390628754504,
                  "C": "X",
                  "_deepnote_index_column": 2
                },
                {
                  "A": 13,
                  "B": 62.31296259400467,
                  "C": "X",
                  "_deepnote_index_column": 3
                },
                {
                  "A": 63,
                  "B": 36.12659131056614,
                  "C": "Z",
                  "_deepnote_index_column": 4
                },
                {
                  "A": 2,
                  "B": 44.38158853579254,
                  "C": "X",
                  "_deepnote_index_column": 5
                },
                {
                  "A": 45,
                  "B": 49.76094760460045,
                  "C": "X",
                  "_deepnote_index_column": 6
                },
                {
                  "A": 52,
                  "B": 68.22244451089179,
                  "C": "Y",
                  "_deepnote_index_column": 7
                },
                {
                  "A": 74,
                  "B": 35.192838055483215,
                  "C": "Z",
                  "_deepnote_index_column": 8
                },
                {
                  "A": 38,
                  "B": 63.72946390459233,
                  "C": "Z",
                  "_deepnote_index_column": 9
                }
              ]
            },
            "text/plain": "     A          B  C\n0    1  50.127559  Z\n1   24  77.489590  Y\n2   29  89.853906  X\n3   13  62.312963  X\n4   63  36.126591  Z\n5    2  44.381589  X\n6   45  49.760948  X\n7   52  68.222445  Y\n8   74  35.192838  Z\n9   38  63.729464  Z\n10  79  35.726218  X\n11  31  66.638061  X\n12  65  30.665964  Z\n13  33  59.849756  X\n14  61  70.408357  Y\n15  10  30.412180  X\n16  76  81.770158  Y\n17  30  44.769074  X\n18   5  48.866768  Y\n19  79  37.258578  Y\n20  47  20.281606  Z\n21  49  50.012942  Z\n22  26  47.718514  Z\n23  62  40.415027  X\n24  60  57.628520  X\n25  70  79.140714  Z\n26  17  77.501576  Z\n27  58  28.047855  Z\n28  72  23.946733  Z\n29  15  26.227152  X\n30  44  48.599615  Y\n31  44  29.670058  Z\n32  33  38.939096  Y\n33  10  69.705267  Z\n34  17  53.972927  X\n35  15  63.832813  X\n36  34  64.130188  Y\n37   9  64.757239  Z\n38  24  58.301390  Z\n39  93  45.815512  Z\n40  35  72.683622  Z\n41  66  46.944376  Y\n42   6  66.185742  Z\n43  14  47.676062  X\n44  80  68.064111  Y\n45  56  54.528563  Y\n46  44  64.456530  Z\n47  20  44.324159  X\n48  46  53.942041  Z\n49  30  69.815663  Z",
            "text/html": "<div>\n<style scoped>\n    .dataframe tbody tr th:only-of-type {\n        vertical-align: middle;\n    }\n\n    .dataframe tbody tr th {\n        vertical-align: top;\n    }\n\n    .dataframe thead th {\n        text-align: right;\n    }\n</style>\n<table border=\"1\" class=\"dataframe\">\n  <thead>\n    <tr style=\"text-align: right;\">\n      <th></th>\n      <th>A</th>\n      <th>B</th>\n      <th>C</th>\n    </tr>\n  </thead>\n  <tbody>\n    <tr>\n      <th>0</th>\n      <td>1</td>\n      <td>50.127559</td>\n      <td>Z</td>\n    </tr>\n    <tr>\n      <th>1</th>\n      <td>24</td>\n      <td>77.489590</td>\n      <td>Y</td>\n    </tr>\n    <tr>\n      <th>2</th>\n      <td>29</td>\n      <td>89.853906</td>\n      <td>X</td>\n    </tr>\n    <tr>\n      <th>3</th>\n      <td>13</td>\n      <td>62.312963</td>\n      <td>X</td>\n    </tr>\n    <tr>\n      <th>4</th>\n      <td>63</td>\n      <td>36.126591</td>\n      <td>Z</td>\n    </tr>\n    <tr>\n      <th>5</th>\n      <td>2</td>\n      <td>44.381589</td>\n      <td>X</td>\n    </tr>\n    <tr>\n      <th>6</th>\n      <td>45</td>\n      <td>49.760948</td>\n      <td>X</td>\n    </tr>\n    <tr>\n      <th>7</th>\n      <td>52</td>\n      <td>68.222445</td>\n      <td>Y</td>\n    </tr>\n    <tr>\n      <th>8</th>\n      <td>74</td>\n      <td>35.192838</td>\n      <td>Z</td>\n    </tr>\n    <tr>\n      <th>9</th>\n      <td>38</td>\n      <td>63.729464</td>\n      <td>Z</td>\n    </tr>\n    <tr>\n      <th>10</th>\n      <td>79</td>\n      <td>35.726218</td>\n      <td>X</td>\n    </tr>\n    <tr>\n      <th>11</th>\n      <td>31</td>\n      <td>66.638061</td>\n      <td>X</td>\n    </tr>\n    <tr>\n      <th>12</th>\n      <td>65</td>\n      <td>30.665964</td>\n      <td>Z</td>\n    </tr>\n    <tr>\n      <th>13</th>\n      <td>33</td>\n      <td>59.849756</td>\n      <td>X</td>\n    </tr>\n    <tr>\n      <th>14</th>\n      <td>61</td>\n      <td>70.408357</td>\n      <td>Y</td>\n    </tr>\n    <tr>\n      <th>15</th>\n      <td>10</td>\n      <td>30.412180</td>\n      <td>X</td>\n    </tr>\n    <tr>\n      <th>16</th>\n      <td>76</td>\n      <td>81.770158</td>\n      <td>Y</td>\n    </tr>\n    <tr>\n      <th>17</th>\n      <td>30</td>\n      <td>44.769074</td>\n      <td>X</td>\n    </tr>\n    <tr>\n      <th>18</th>\n      <td>5</td>\n      <td>48.866768</td>\n      <td>Y</td>\n    </tr>\n    <tr>\n      <th>19</th>\n      <td>79</td>\n      <td>37.258578</td>\n      <td>Y</td>\n    </tr>\n    <tr>\n      <th>20</th>\n      <td>47</td>\n      <td>20.281606</td>\n      <td>Z</td>\n    </tr>\n    <tr>\n      <th>21</th>\n      <td>49</td>\n      <td>50.012942</td>\n      <td>Z</td>\n    </tr>\n    <tr>\n      <th>22</th>\n      <td>26</td>\n      <td>47.718514</td>\n      <td>Z</td>\n    </tr>\n    <tr>\n      <th>23</th>\n      <td>62</td>\n      <td>40.415027</td>\n      <td>X</td>\n    </tr>\n    <tr>\n      <th>24</th>\n      <td>60</td>\n      <td>57.628520</td>\n      <td>X</td>\n    </tr>\n    <tr>\n      <th>25</th>\n      <td>70</td>\n      <td>79.140714</td>\n      <td>Z</td>\n    </tr>\n    <tr>\n      <th>26</th>\n      <td>17</td>\n      <td>77.501576</td>\n      <td>Z</td>\n    </tr>\n    <tr>\n      <th>27</th>\n      <td>58</td>\n      <td>28.047855</td>\n      <td>Z</td>\n    </tr>\n    <tr>\n      <th>28</th>\n      <td>72</td>\n      <td>23.946733</td>\n      <td>Z</td>\n    </tr>\n    <tr>\n      <th>29</th>\n      <td>15</td>\n      <td>26.227152</td>\n      <td>X</td>\n    </tr>\n    <tr>\n      <th>30</th>\n      <td>44</td>\n      <td>48.599615</td>\n      <td>Y</td>\n    </tr>\n    <tr>\n      <th>31</th>\n      <td>44</td>\n      <td>29.670058</td>\n      <td>Z</td>\n    </tr>\n    <tr>\n      <th>32</th>\n      <td>33</td>\n      <td>38.939096</td>\n      <td>Y</td>\n    </tr>\n    <tr>\n      <th>33</th>\n      <td>10</td>\n      <td>69.705267</td>\n      <td>Z</td>\n    </tr>\n    <tr>\n      <th>34</th>\n      <td>17</td>\n      <td>53.972927</td>\n      <td>X</td>\n    </tr>\n    <tr>\n      <th>35</th>\n      <td>15</td>\n      <td>63.832813</td>\n      <td>X</td>\n    </tr>\n    <tr>\n      <th>36</th>\n      <td>34</td>\n      <td>64.130188</td>\n      <td>Y</td>\n    </tr>\n    <tr>\n      <th>37</th>\n      <td>9</td>\n      <td>64.757239</td>\n      <td>Z</td>\n    </tr>\n    <tr>\n      <th>38</th>\n      <td>24</td>\n      <td>58.301390</td>\n      <td>Z</td>\n    </tr>\n    <tr>\n      <th>39</th>\n      <td>93</td>\n      <td>45.815512</td>\n      <td>Z</td>\n    </tr>\n    <tr>\n      <th>40</th>\n      <td>35</td>\n      <td>72.683622</td>\n      <td>Z</td>\n    </tr>\n    <tr>\n      <th>41</th>\n      <td>66</td>\n      <td>46.944376</td>\n      <td>Y</td>\n    </tr>\n    <tr>\n      <th>42</th>\n      <td>6</td>\n      <td>66.185742</td>\n      <td>Z</td>\n    </tr>\n    <tr>\n      <th>43</th>\n      <td>14</td>\n      <td>47.676062</td>\n      <td>X</td>\n    </tr>\n    <tr>\n      <th>44</th>\n      <td>80</td>\n      <td>68.064111</td>\n      <td>Y</td>\n    </tr>\n    <tr>\n      <th>45</th>\n      <td>56</td>\n      <td>54.528563</td>\n      <td>Y</td>\n    </tr>\n    <tr>\n      <th>46</th>\n      <td>44</td>\n      <td>64.456530</td>\n      <td>Z</td>\n    </tr>\n    <tr>\n      <th>47</th>\n      <td>20</td>\n      <td>44.324159</td>\n      <td>X</td>\n    </tr>\n    <tr>\n      <th>48</th>\n      <td>46</td>\n      <td>53.942041</td>\n      <td>Z</td>\n    </tr>\n    <tr>\n      <th>49</th>\n      <td>30</td>\n      <td>69.815663</td>\n      <td>Z</td>\n    </tr>\n  </tbody>\n</table>\n</div>"
          },
          "metadata": {}
        }
      ],
      "outputs_reference": null,
      "execution_count": 2,
      "block_group": "7cf090fd9fe946399ada622042bc3540",
      "content_dependencies": null
    },
    {
      "cell_type": "markdown",
      "source": "The dummy data has been created and displayed in a DataFrame format. It consists of three columns: 'A' with random integers, 'B' with normally distributed random values, and 'C' with random categorical values ('X', 'Y', 'Z').",
      "metadata": {
        "cell_id": "91b8a50c423b4e9783a3ae7624fce6a1",
        "deepnote_cell_type": "text-cell-p"
      },
      "block_group": "0abc96ce4ef343a5a3851452417a91e0"
    },
    {
      "cell_type": "markdown",
      "source": "<a style='text-decoration:none;line-height:16px;display:flex;color:#5B5B62;padding:10px;justify-content:end;' href='https://deepnote.com?utm_source=created-in-deepnote-cell&projectId=fac48b88-5d3e-4a32-94d3-9e6781d4d92a' target=\"_blank\">\n<img alt='Created in deepnote.com' style='display:inline;max-height:16px;margin:0px;margin-right:7.5px;' src='data:image/svg+xml;base64,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' > </img>\nCreated in <span style='font-weight:600;margin-left:4px;'>Deepnote</span></a>",
      "metadata": {
        "created_in_deepnote_cell": true,
        "deepnote_cell_type": "markdown"
      }
    }
  ],
  "nbformat": 4,
  "nbformat_minor": 0,
  "metadata": {
    "deepnote_notebook_id": "4168b52a65394dfe9cd97fa75047d16c",
    "deepnote_execution_queue": []
  }
}
